{
 "cells": [
  {
   "cell_type": "code",
   "execution_count": 3,
   "metadata": {},
   "outputs": [],
   "source": [
    "from sklearn.feature_extraction.text import CountVectorizer, TfidfTransformer\n",
    "from sklearn.svm import LinearSVC\n",
    "\n",
    "class classifier:\n",
    "  category = []\n",
    "  taged_news = []\n",
    "  untaged_news = []\n",
    "\n",
    "  def news_parser(self, news_train, news_test):\n",
    "    train_file = open(news_train, encoding='utf-8')\n",
    "    for line in train_file:\n",
    "      line_list = line.split('\\t', maxsplit=1)\n",
    "      self.category.append(line_list[0])\n",
    "      self.taged_news.append(line_list[1])  \n",
    "    \n",
    "    test_file = open(news_test, encoding='utf-8')\n",
    "    for line in test_file:\n",
    "      self.untaged_news.append(line)\n",
    "    \n",
    "    train_file.close()\n",
    "    test_file.close()\n",
    "    \n",
    "  def prediction(self):\n",
    "      count_vect = CountVectorizer()\n",
    "      tfidf_transform = TfidfTransformer()\n",
    "      X_train = count_vect.fit_transform(self.taged_news)\n",
    "      X_train = tfidf_transform.fit_transform(X_train)\n",
    "      \n",
    "      classifier = LinearSVC().fit(X_train, self.category)\n",
    "     \n",
    "      X_result = count_vect.transform(self.untaged_news)\n",
    "      X_result = tfidf_transform.transform(X_result)\n",
    "      \n",
    "      predicted_categories = classifier.predict(X_result)\n",
    "     \n",
    "      result_file = open('news_output.txt', 'w')\n",
    "      for pred_categ in predicted_categories:\n",
    "        result_file.write(pred_categ)\n",
    "        result_file.write('\\n')\n",
    "      result_file.close()  \n",
    "    \n",
    "obj=classifier()\n",
    "obj.news_parser(\"news_train.txt\", \"news_test.txt\")\n",
    "obj.prediction()\n"
   ]
  },
  {
   "cell_type": "code",
   "execution_count": null,
   "metadata": {
    "collapsed": true
   },
   "outputs": [],
   "source": []
  }
 ],
 "metadata": {
  "kernelspec": {
   "display_name": "Python 3",
   "language": "python",
   "name": "python3"
  },
  "language_info": {
   "codemirror_mode": {
    "name": "ipython",
    "version": 3
   },
   "file_extension": ".py",
   "mimetype": "text/x-python",
   "name": "python",
   "nbconvert_exporter": "python",
   "pygments_lexer": "ipython3",
   "version": "3.6.3"
  }
 },
 "nbformat": 4,
 "nbformat_minor": 2
}
